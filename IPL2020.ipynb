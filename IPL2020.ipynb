{
  "nbformat": 4,
  "nbformat_minor": 0,
  "metadata": {
    "colab": {
      "name": "IPL2020.ipynb",
      "provenance": [],
      "collapsed_sections": [
        "Ue9VPPw8pCCT",
        "xl555a1nfqvm"
      ],
      "mount_file_id": "1yBaxL7VpbGROg6RENuVeJzcvcBg1w_3x",
      "authorship_tag": "ABX9TyMaq+BPGnwszUiQUKkcw02D",
      "include_colab_link": true
    },
    "kernelspec": {
      "name": "python3",
      "display_name": "Python 3"
    }
  },
  "cells": [
    {
      "cell_type": "markdown",
      "metadata": {
        "id": "view-in-github",
        "colab_type": "text"
      },
      "source": [
        "<a href=\"https://colab.research.google.com/github/rakeshthatiparthi/IPL-2020-Data-Analysis/blob/main/IPL2020.ipynb\" target=\"_parent\"><img src=\"https://colab.research.google.com/assets/colab-badge.svg\" alt=\"Open In Colab\"/></a>"
      ]
    },
    {
      "cell_type": "code",
      "metadata": {
        "id": "lsnQwrJzdCYR"
      },
      "source": [
        "import pandas as pd\r\n",
        "from matplotlib import pyplot as plt\r\n",
        "import seaborn as sns"
      ],
      "execution_count": 50,
      "outputs": []
    },
    {
      "cell_type": "code",
      "metadata": {
        "colab": {
          "base_uri": "https://localhost:8080/",
          "height": 206
        },
        "id": "hSMFtUIs2lWX",
        "outputId": "dee1a535-5cf5-41f7-d346-e3963ce54d30"
      },
      "source": [
        "df=pd.read_csv(\"/content/sample_data/Deliveries IPL 2020.csv\")\r\n",
        "df.head(3)"
      ],
      "execution_count": 51,
      "outputs": [
        {
          "output_type": "execute_result",
          "data": {
            "text/html": [
              "<div>\n",
              "<style scoped>\n",
              "    .dataframe tbody tr th:only-of-type {\n",
              "        vertical-align: middle;\n",
              "    }\n",
              "\n",
              "    .dataframe tbody tr th {\n",
              "        vertical-align: top;\n",
              "    }\n",
              "\n",
              "    .dataframe thead th {\n",
              "        text-align: right;\n",
              "    }\n",
              "</style>\n",
              "<table border=\"1\" class=\"dataframe\">\n",
              "  <thead>\n",
              "    <tr style=\"text-align: right;\">\n",
              "      <th></th>\n",
              "      <th>match_id</th>\n",
              "      <th>inning</th>\n",
              "      <th>batting_team</th>\n",
              "      <th>bowling_team</th>\n",
              "      <th>over</th>\n",
              "      <th>ball</th>\n",
              "      <th>batsman</th>\n",
              "      <th>non_striker</th>\n",
              "      <th>bowler</th>\n",
              "      <th>is_super_over</th>\n",
              "      <th>wide_runs</th>\n",
              "      <th>bye_runs</th>\n",
              "      <th>legbye_runs</th>\n",
              "      <th>noball_runs</th>\n",
              "      <th>penalty_runs</th>\n",
              "      <th>batsman_runs</th>\n",
              "      <th>extra_runs</th>\n",
              "      <th>total_runs</th>\n",
              "      <th>player_dismissed</th>\n",
              "      <th>dismissal_kind</th>\n",
              "      <th>fielder</th>\n",
              "    </tr>\n",
              "  </thead>\n",
              "  <tbody>\n",
              "    <tr>\n",
              "      <th>0</th>\n",
              "      <td>1216492</td>\n",
              "      <td>1</td>\n",
              "      <td>MI</td>\n",
              "      <td>CSK</td>\n",
              "      <td>1</td>\n",
              "      <td>1</td>\n",
              "      <td>RG Sharma</td>\n",
              "      <td>Q de Kock</td>\n",
              "      <td>DL Chahar</td>\n",
              "      <td>0</td>\n",
              "      <td>0</td>\n",
              "      <td>0</td>\n",
              "      <td>0</td>\n",
              "      <td>0</td>\n",
              "      <td>0</td>\n",
              "      <td>4</td>\n",
              "      <td>0</td>\n",
              "      <td>4</td>\n",
              "      <td>NaN</td>\n",
              "      <td>NaN</td>\n",
              "      <td>NaN</td>\n",
              "    </tr>\n",
              "    <tr>\n",
              "      <th>1</th>\n",
              "      <td>1216492</td>\n",
              "      <td>1</td>\n",
              "      <td>MI</td>\n",
              "      <td>CSK</td>\n",
              "      <td>1</td>\n",
              "      <td>2</td>\n",
              "      <td>RG Sharma</td>\n",
              "      <td>Q de Kock</td>\n",
              "      <td>DL Chahar</td>\n",
              "      <td>0</td>\n",
              "      <td>0</td>\n",
              "      <td>0</td>\n",
              "      <td>0</td>\n",
              "      <td>0</td>\n",
              "      <td>0</td>\n",
              "      <td>1</td>\n",
              "      <td>0</td>\n",
              "      <td>1</td>\n",
              "      <td>NaN</td>\n",
              "      <td>NaN</td>\n",
              "      <td>NaN</td>\n",
              "    </tr>\n",
              "    <tr>\n",
              "      <th>2</th>\n",
              "      <td>1216492</td>\n",
              "      <td>1</td>\n",
              "      <td>MI</td>\n",
              "      <td>CSK</td>\n",
              "      <td>1</td>\n",
              "      <td>3</td>\n",
              "      <td>Q de Kock</td>\n",
              "      <td>RG Sharma</td>\n",
              "      <td>DL Chahar</td>\n",
              "      <td>0</td>\n",
              "      <td>0</td>\n",
              "      <td>0</td>\n",
              "      <td>0</td>\n",
              "      <td>0</td>\n",
              "      <td>0</td>\n",
              "      <td>2</td>\n",
              "      <td>0</td>\n",
              "      <td>2</td>\n",
              "      <td>NaN</td>\n",
              "      <td>NaN</td>\n",
              "      <td>NaN</td>\n",
              "    </tr>\n",
              "  </tbody>\n",
              "</table>\n",
              "</div>"
            ],
            "text/plain": [
              "   match_id  inning batting_team  ... player_dismissed  dismissal_kind  fielder\n",
              "0   1216492       1           MI  ...              NaN             NaN      NaN\n",
              "1   1216492       1           MI  ...              NaN             NaN      NaN\n",
              "2   1216492       1           MI  ...              NaN             NaN      NaN\n",
              "\n",
              "[3 rows x 21 columns]"
            ]
          },
          "metadata": {
            "tags": []
          },
          "execution_count": 51
        }
      ]
    },
    {
      "cell_type": "code",
      "metadata": {
        "id": "h0I9vsrp2li2"
      },
      "source": [
        "df.drop(['ball','batsman','non_striker','bowler','wide_runs','bye_runs','legbye_runs','noball_runs','penalty_runs','batsman_runs','extra_runs','player_dismissed','dismissal_kind','fielder'],axis=1,inplace=True)"
      ],
      "execution_count": 52,
      "outputs": []
    },
    {
      "cell_type": "code",
      "metadata": {
        "colab": {
          "base_uri": "https://localhost:8080/",
          "height": 136
        },
        "id": "BBjv6ax92lmo",
        "outputId": "cba74d5c-d402-4916-9ae3-900e1de58c47"
      },
      "source": [
        "df.head(3)"
      ],
      "execution_count": 53,
      "outputs": [
        {
          "output_type": "execute_result",
          "data": {
            "text/html": [
              "<div>\n",
              "<style scoped>\n",
              "    .dataframe tbody tr th:only-of-type {\n",
              "        vertical-align: middle;\n",
              "    }\n",
              "\n",
              "    .dataframe tbody tr th {\n",
              "        vertical-align: top;\n",
              "    }\n",
              "\n",
              "    .dataframe thead th {\n",
              "        text-align: right;\n",
              "    }\n",
              "</style>\n",
              "<table border=\"1\" class=\"dataframe\">\n",
              "  <thead>\n",
              "    <tr style=\"text-align: right;\">\n",
              "      <th></th>\n",
              "      <th>match_id</th>\n",
              "      <th>inning</th>\n",
              "      <th>batting_team</th>\n",
              "      <th>bowling_team</th>\n",
              "      <th>over</th>\n",
              "      <th>is_super_over</th>\n",
              "      <th>total_runs</th>\n",
              "    </tr>\n",
              "  </thead>\n",
              "  <tbody>\n",
              "    <tr>\n",
              "      <th>0</th>\n",
              "      <td>1216492</td>\n",
              "      <td>1</td>\n",
              "      <td>MI</td>\n",
              "      <td>CSK</td>\n",
              "      <td>1</td>\n",
              "      <td>0</td>\n",
              "      <td>4</td>\n",
              "    </tr>\n",
              "    <tr>\n",
              "      <th>1</th>\n",
              "      <td>1216492</td>\n",
              "      <td>1</td>\n",
              "      <td>MI</td>\n",
              "      <td>CSK</td>\n",
              "      <td>1</td>\n",
              "      <td>0</td>\n",
              "      <td>1</td>\n",
              "    </tr>\n",
              "    <tr>\n",
              "      <th>2</th>\n",
              "      <td>1216492</td>\n",
              "      <td>1</td>\n",
              "      <td>MI</td>\n",
              "      <td>CSK</td>\n",
              "      <td>1</td>\n",
              "      <td>0</td>\n",
              "      <td>2</td>\n",
              "    </tr>\n",
              "  </tbody>\n",
              "</table>\n",
              "</div>"
            ],
            "text/plain": [
              "   match_id  inning batting_team bowling_team  over  is_super_over  total_runs\n",
              "0   1216492       1           MI          CSK     1              0           4\n",
              "1   1216492       1           MI          CSK     1              0           1\n",
              "2   1216492       1           MI          CSK     1              0           2"
            ]
          },
          "metadata": {
            "tags": []
          },
          "execution_count": 53
        }
      ]
    },
    {
      "cell_type": "code",
      "metadata": {
        "colab": {
          "base_uri": "https://localhost:8080/"
        },
        "id": "S_2FSjs82lqD",
        "outputId": "1de14d2b-1229-46d5-c74b-4e59f6280e97"
      },
      "source": [
        "df.shape"
      ],
      "execution_count": 54,
      "outputs": [
        {
          "output_type": "execute_result",
          "data": {
            "text/plain": [
              "(14326, 7)"
            ]
          },
          "metadata": {
            "tags": []
          },
          "execution_count": 54
        }
      ]
    },
    {
      "cell_type": "markdown",
      "metadata": {
        "id": "9mxv4S5P5hqu"
      },
      "source": [
        "**Manhattan and Worm Graph**\r\n",
        "\r\n",
        "Instead of creating manhattan and worm graphs for every match I wrote a function.If we pass the match id to the function it will return the respective graph."
      ]
    },
    {
      "cell_type": "markdown",
      "metadata": {
        "id": "a-4KngwB26B7"
      },
      "source": [
        "## Manhattan\r\n",
        "\r\n",
        "\r\n",
        "\r\n",
        "*   The Manhattan is one of the most popular charts, which shows how a team has scored across the innings.\r\n",
        "*   In one glance, we can spot the big overs the batsmen made, the overs where the scoring was less, the periods in the game where they managed to exploit and the effects of losing a wicket on scoring speeds.\r\n",
        "*   For Example refer this https://live.cricket.com.au/match/2602/48438/australia-men-vs-india-men-dettol-t20i-series-v-india/graphs\r\n"
      ]
    },
    {
      "cell_type": "code",
      "metadata": {
        "id": "K0vGDgc32ltc"
      },
      "source": [
        "def manhattan_graph(x):\r\n",
        "  match_df=df.loc[(df['match_id']== x) & (df['is_super_over']==0)]\r\n",
        "  inning1_df=match_df.loc[match_df['inning']== 1]\r\n",
        "  inning2_df=match_df.loc[match_df['inning']== 2]\r\n",
        "  team1=str(match_df['batting_team'].values[0])\r\n",
        "  team2=str(match_df['bowling_team'].values[0])\r\n",
        "  match_id=str(match_df['match_id'].values[0])\r\n",
        "\r\n",
        "  team1_total_runs=inning1_df['total_runs'].sum()\r\n",
        "  team2_total_runs=inning2_df['total_runs'].sum()\r\n",
        "  print(str(team1)+\" total runs \"+str(team1_total_runs))\r\n",
        "  print(str(team2)+\" total runs \"+str(team2_total_runs))\r\n",
        "  \r\n",
        "  #inning1\r\n",
        "  overs1=inning1_df.groupby('over')['total_runs'].sum().index\r\n",
        "  runs1=list(inning1_df.groupby('over')['total_runs'].sum().values)\r\n",
        "  newdf1 = pd.DataFrame({'overs':overs1,'runs':runs1})\r\n",
        "  newdf1['Team'] = team1\r\n",
        "  newdf1['Match_id']= match_id\r\n",
        "  \r\n",
        "\r\n",
        "  #inning2\r\n",
        "  overs2=inning2_df.groupby('over')['total_runs'].sum().index\r\n",
        "  runs2=list(inning2_df.groupby('over')['total_runs'].sum().values)\r\n",
        "  newdf2 = pd.DataFrame({'overs':overs2,'runs':runs2})\r\n",
        "  newdf2['Team'] = team2\r\n",
        "  newdf2['Match_id']= match_id\r\n",
        "\r\n",
        "  final_df=pd.concat([newdf1,newdf2]) #concat the 1st and 2nd inning dataframes\r\n",
        "  plt.figure(figsize=(15,5))\r\n",
        "  sns.barplot(x='overs', y=\"runs\", hue=\"Team\", data=final_df)\r\n",
        "  plt.title(\"Manhattan Graph of Match\")\r\n",
        "  plt.ylabel(\"Runs per Over\")\r\n",
        "  plt.xlabel(\"OVER\")\r\n",
        "\r\n",
        "  return plt.show()"
      ],
      "execution_count": 55,
      "outputs": []
    },
    {
      "cell_type": "code",
      "metadata": {
        "colab": {
          "base_uri": "https://localhost:8080/",
          "height": 389
        },
        "id": "fduuwOA52lw2",
        "outputId": "4efe7488-8597-4f2a-f0ed-c0e93a29eef1"
      },
      "source": [
        "manhattan_graph(1216492)"
      ],
      "execution_count": 56,
      "outputs": [
        {
          "output_type": "stream",
          "text": [
            "MI total runs 162\n",
            "CSK total runs 166\n"
          ],
          "name": "stdout"
        },
        {
          "output_type": "display_data",
          "data": {
            "image/png": "[encoded data removed]",
            "text/plain": [
              "<Figure size 1080x360 with 1 Axes>"
            ]
          },
          "metadata": {
            "tags": []
          }
        }
      ]
    },
    {
      "cell_type": "markdown",
      "metadata": {
        "id": "WAGplY3Z6RNC"
      },
      "source": [
        "**Observations**\r\n",
        "\r\n",
        "*   MI team takes the full advantage of the batting powerplay they scored above 7 runs per over in initial 4 overs.\r\n",
        "*   CSK scored 5 runs per over from 6th over to 20th over,they rotated the strike constantly\r\n",
        "\r\n",
        "\r\n",
        "\r\n"
      ]
    },
    {
      "cell_type": "markdown",
      "metadata": {
        "id": "IO1Bt_ac7QVq"
      },
      "source": [
        "## **Inning wise manhattan graph**\r\n",
        "\r\n",
        "This will be used to analyze the only one inning score per over "
      ]
    },
    {
      "cell_type": "code",
      "metadata": {
        "id": "GAviReXB3CVE"
      },
      "source": [
        "def inning_wise_manhattan(x,y):\r\n",
        "  inning_df=df.loc[(df['match_id']==x) & (df['inning']== y) & (df['is_super_over']==0)]\r\n",
        "  graph_df=inning_df.groupby('over')['total_runs'].sum()\r\n",
        "  total_runs=inning_df['total_runs'].sum()\r\n",
        "  x=graph_df.index\r\n",
        "  y=graph_df.values\r\n",
        "  plt.figure(figsize=(15,5))\r\n",
        "  sns.barplot(x=x,y=y)\r\n",
        "  val=inning_df['batting_team'].values[0]\r\n",
        "  plt.title(\"Runs per Over Graph of \"+val+\" Total Score(\"+str(total_runs)+\")\")\r\n",
        "  plt.ylabel(\"Runs per Over\")\r\n",
        "  plt.xlabel(\"OVER\")\r\n",
        "  return plt.show()"
      ],
      "execution_count": 57,
      "outputs": []
    },
    {
      "cell_type": "code",
      "metadata": {
        "colab": {
          "base_uri": "https://localhost:8080/",
          "height": 355
        },
        "id": "cTClK5Vv3CYU",
        "outputId": "7db7d886-d01d-4683-d457-f575c2ac44c2"
      },
      "source": [
        "inning_wise_manhattan(1216497,1)"
      ],
      "execution_count": 58,
      "outputs": [
        {
          "output_type": "display_data",
          "data": {
            "image/png": "[encoded data removed]",
            "text/plain": [
              "<Figure size 1080x360 with 1 Axes>"
            ]
          },
          "metadata": {
            "tags": []
          }
        }
      ]
    },
    {
      "cell_type": "markdown",
      "metadata": {
        "id": "OQleKV7dWYEa"
      },
      "source": [
        "**Observations**\r\n",
        "\r\n",
        "KKR struggled to rotate strike between 1 and 8th over,after 8th over they maintained above 7 runs per over "
      ]
    },
    {
      "cell_type": "markdown",
      "metadata": {
        "id": "bZ2e51bq3Xdl"
      },
      "source": [
        "## **Worm Graph**\r\n",
        "\r\n",
        "*   Worm is a trend line graph used to show the runs scored by chasing team compared to opponent team.\r\n",
        "*   For example refer this https://live.cricket.com.au/match/2602/48438/australia-men-vs-india-men-dettol-t20i-series-v-india/graphs\r\n"
      ]
    },
    {
      "cell_type": "code",
      "metadata": {
        "id": "VOslRAgO3Cbt"
      },
      "source": [
        "def worm_graph(x):\r\n",
        "  match_df=df.loc[(df['match_id']== x) & (df['is_super_over']==0)]\r\n",
        "  inning1_df=match_df.loc[match_df['inning']== 1]\r\n",
        "  inning2_df=match_df.loc[match_df['inning']== 2]\r\n",
        "  team1=str(match_df['batting_team'].values[0])\r\n",
        "  team2=str(match_df['bowling_team'].values[0])\r\n",
        "  match_id=str(match_df['match_id'].values[0])\r\n",
        "  team1_total_runs=inning1_df['total_runs'].sum()\r\n",
        "  team2_total_runs=inning2_df['total_runs'].sum()\r\n",
        "  print(str(team1)+\" total runs \"+str(team1_total_runs))\r\n",
        "  print(str(team2)+\" total runs \"+str(team2_total_runs))\r\n",
        "\r\n",
        "  #inning1\r\n",
        "  overs1=inning1_df.groupby('over')['total_runs'].sum().index\r\n",
        "  runs1=list(inning1_df.groupby('over')['total_runs'].sum().values)\r\n",
        "\r\n",
        "  inc1=0\r\n",
        "  runs_list1=[]\r\n",
        "  for i in runs1:\r\n",
        "    z1=i+inc1\r\n",
        "    runs_list1.append(z1)\r\n",
        "    inc1=z1\r\n",
        "\r\n",
        "  newdf1 = pd.DataFrame({'overs':overs1,'runs':runs_list1})\r\n",
        "  newdf1['Team'] = team1\r\n",
        "  newdf1['Match_id']= match_id\r\n",
        "\r\n",
        "  #inning2\r\n",
        "  overs2=inning2_df.groupby('over')['total_runs'].sum().index\r\n",
        "  runs2=list(inning2_df.groupby('over')['total_runs'].sum().values)\r\n",
        "\r\n",
        "  inc2=0\r\n",
        "  runs_list2=[]\r\n",
        "  for j in runs2:\r\n",
        "    z2=j+inc2\r\n",
        "    runs_list2.append(z2)\r\n",
        "    inc2=z2\r\n",
        "\r\n",
        "  newdf2 = pd.DataFrame({'overs':overs2,'runs':runs_list2})\r\n",
        "  newdf2['Team'] = team2\r\n",
        "  newdf2['Match_id']= match_id\r\n",
        "\r\n",
        "  final_df=pd.concat([newdf1,newdf2])\r\n",
        "  plt.figure(figsize=(20,8))\r\n",
        "  sns.set_theme(style=\"whitegrid\")\r\n",
        "  sns.lineplot(x='overs',y='runs',data=final_df,hue='Team')\r\n",
        "\r\n",
        "  plt.title(\"Worm Graph of Match\")\r\n",
        "  plt.ylabel(\"Total Runs\")\r\n",
        "  plt.xlabel(\"Overs\")\r\n",
        "  return plt.show()"
      ],
      "execution_count": 59,
      "outputs": []
    },
    {
      "cell_type": "code",
      "metadata": {
        "colab": {
          "base_uri": "https://localhost:8080/",
          "height": 434
        },
        "id": "0uH_POpi3Ce2",
        "outputId": "b1b30521-97a7-449d-9873-332a29784817"
      },
      "source": [
        "worm_graph(1216497)"
      ],
      "execution_count": 60,
      "outputs": [
        {
          "output_type": "stream",
          "text": [
            "KKR total runs 194\n",
            "DC total runs 134\n"
          ],
          "name": "stdout"
        },
        {
          "output_type": "display_data",
          "data": {
            "image/png": "[encoded data removed]",
            "text/plain": [
              "<Figure size 1440x576 with 1 Axes>"
            ]
          },
          "metadata": {
            "tags": []
          }
        }
      ]
    },
    {
      "cell_type": "markdown",
      "metadata": {
        "id": "PGjr-wR67rCi"
      },
      "source": [
        "**Observations**\r\n",
        "\r\n",
        "DC chasing slows down after 9th over they eventually loss the match"
      ]
    },
    {
      "cell_type": "code",
      "metadata": {
        "id": "u3krrBi4dR2f"
      },
      "source": [
        "ipl = pd.read_csv(\"/content/sample_data/Matches IPL 2020.csv\")"
      ],
      "execution_count": 61,
      "outputs": []
    },
    {
      "cell_type": "code",
      "metadata": {
        "colab": {
          "base_uri": "https://localhost:8080/",
          "height": 227
        },
        "id": "huzGUVRjdXNr",
        "outputId": "53bd6068-8920-45e5-e0d3-394208992541"
      },
      "source": [
        "ipl.head(2)"
      ],
      "execution_count": 62,
      "outputs": [
        {
          "output_type": "execute_result",
          "data": {
            "text/html": [
              "<div>\n",
              "<style scoped>\n",
              "    .dataframe tbody tr th:only-of-type {\n",
              "        vertical-align: middle;\n",
              "    }\n",
              "\n",
              "    .dataframe tbody tr th {\n",
              "        vertical-align: top;\n",
              "    }\n",
              "\n",
              "    .dataframe thead th {\n",
              "        text-align: right;\n",
              "    }\n",
              "</style>\n",
              "<table border=\"1\" class=\"dataframe\">\n",
              "  <thead>\n",
              "    <tr style=\"text-align: right;\">\n",
              "      <th></th>\n",
              "      <th>id</th>\n",
              "      <th>season</th>\n",
              "      <th>city</th>\n",
              "      <th>date</th>\n",
              "      <th>team1</th>\n",
              "      <th>team2</th>\n",
              "      <th>toss_winner</th>\n",
              "      <th>toss_decision</th>\n",
              "      <th>result</th>\n",
              "      <th>dl_applied</th>\n",
              "      <th>winner</th>\n",
              "      <th>win_by_runs</th>\n",
              "      <th>win_by_wickets</th>\n",
              "      <th>player_of_match</th>\n",
              "      <th>venue</th>\n",
              "      <th>umpire1</th>\n",
              "      <th>umpire2</th>\n",
              "      <th>umpire3</th>\n",
              "    </tr>\n",
              "  </thead>\n",
              "  <tbody>\n",
              "    <tr>\n",
              "      <th>0</th>\n",
              "      <td>1216492</td>\n",
              "      <td>2020</td>\n",
              "      <td>Abu Dhabi</td>\n",
              "      <td>09/19/2020</td>\n",
              "      <td>MI</td>\n",
              "      <td>CSK</td>\n",
              "      <td>CSK</td>\n",
              "      <td>field</td>\n",
              "      <td>normal</td>\n",
              "      <td>0</td>\n",
              "      <td>CSK</td>\n",
              "      <td>0</td>\n",
              "      <td>5</td>\n",
              "      <td>AT Rayudu</td>\n",
              "      <td>Sheikh Zayed Stadium, Abu Dhabi</td>\n",
              "      <td>Chris Gaffaney</td>\n",
              "      <td>Virender Sharma</td>\n",
              "      <td>Sundaram Ravi</td>\n",
              "    </tr>\n",
              "    <tr>\n",
              "      <th>1</th>\n",
              "      <td>1216493</td>\n",
              "      <td>2020</td>\n",
              "      <td>Dubai (DSC)</td>\n",
              "      <td>09/20/2020</td>\n",
              "      <td>DC</td>\n",
              "      <td>KXIP</td>\n",
              "      <td>KXIP</td>\n",
              "      <td>field</td>\n",
              "      <td>tie</td>\n",
              "      <td>0</td>\n",
              "      <td>DC</td>\n",
              "      <td>0</td>\n",
              "      <td>0</td>\n",
              "      <td>MP Stoinis</td>\n",
              "      <td>Dubai International Cricket Stadium</td>\n",
              "      <td>Anil Chaudhary</td>\n",
              "      <td>Nitin Menon</td>\n",
              "      <td>Paul Reiffel</td>\n",
              "    </tr>\n",
              "  </tbody>\n",
              "</table>\n",
              "</div>"
            ],
            "text/plain": [
              "        id  season         city  ...         umpire1          umpire2        umpire3\n",
              "0  1216492    2020    Abu Dhabi  ...  Chris Gaffaney  Virender Sharma  Sundaram Ravi\n",
              "1  1216493    2020  Dubai (DSC)  ...  Anil Chaudhary      Nitin Menon   Paul Reiffel\n",
              "\n",
              "[2 rows x 18 columns]"
            ]
          },
          "metadata": {
            "tags": []
          },
          "execution_count": 62
        }
      ]
    },
    {
      "cell_type": "code",
      "metadata": {
        "colab": {
          "base_uri": "https://localhost:8080/"
        },
        "id": "1x4IQEXGdZ2b",
        "outputId": "466c8345-7db5-4d88-8b44-ca6c741ec45e"
      },
      "source": [
        "ipl.shape"
      ],
      "execution_count": 63,
      "outputs": [
        {
          "output_type": "execute_result",
          "data": {
            "text/plain": [
              "(60, 18)"
            ]
          },
          "metadata": {
            "tags": []
          },
          "execution_count": 63
        }
      ]
    },
    {
      "cell_type": "code",
      "metadata": {
        "colab": {
          "base_uri": "https://localhost:8080/"
        },
        "id": "KHE9-LTsy_qG",
        "outputId": "805b1f47-6a14-406d-f420-4e5d60e4ca39"
      },
      "source": [
        "ipl.isnull().sum()"
      ],
      "execution_count": 64,
      "outputs": [
        {
          "output_type": "execute_result",
          "data": {
            "text/plain": [
              "id                 0\n",
              "season             0\n",
              "city               0\n",
              "date               0\n",
              "team1              0\n",
              "team2              0\n",
              "toss_winner        0\n",
              "toss_decision      0\n",
              "result             0\n",
              "dl_applied         0\n",
              "winner             0\n",
              "win_by_runs        0\n",
              "win_by_wickets     0\n",
              "player_of_match    0\n",
              "venue              0\n",
              "umpire1            0\n",
              "umpire2            0\n",
              "umpire3            0\n",
              "dtype: int64"
            ]
          },
          "metadata": {
            "tags": []
          },
          "execution_count": 64
        }
      ]
    },
    {
      "cell_type": "code",
      "metadata": {
        "colab": {
          "base_uri": "https://localhost:8080/"
        },
        "id": "UiHOstOpUhGv",
        "outputId": "681015f0-52d0-4e31-b23f-dff99a79b00d"
      },
      "source": [
        "ipl.columns"
      ],
      "execution_count": 65,
      "outputs": [
        {
          "output_type": "execute_result",
          "data": {
            "text/plain": [
              "Index(['id', 'season', 'city', 'date', 'team1', 'team2', 'toss_winner',\n",
              "       'toss_decision', 'result', 'dl_applied', 'winner', 'win_by_runs',\n",
              "       'win_by_wickets', 'player_of_match', 'venue', 'umpire1', 'umpire2',\n",
              "       'umpire3'],\n",
              "      dtype='object')"
            ]
          },
          "metadata": {
            "tags": []
          },
          "execution_count": 65
        }
      ]
    },
    {
      "cell_type": "markdown",
      "metadata": {
        "id": "LFGb1YRWHl_G"
      },
      "source": [
        "## **How many matches played in IPL2020?**\r\n"
      ]
    },
    {
      "cell_type": "code",
      "metadata": {
        "colab": {
          "base_uri": "https://localhost:8080/"
        },
        "id": "eMz3mNXtdc8D",
        "outputId": "6d43d117-b8ae-4d77-83e0-8ef12dc94ac4"
      },
      "source": [
        "Total_matches=ipl['id'].count()\r\n",
        "print(\"Total Matches held in ipl 2020 season is \"+str(Total_matches))"
      ],
      "execution_count": 66,
      "outputs": [
        {
          "output_type": "stream",
          "text": [
            "Total Matches held in ipl 2020 season is 60\n"
          ],
          "name": "stdout"
        }
      ]
    },
    {
      "cell_type": "markdown",
      "metadata": {
        "id": "0sp1_TyFI2-n"
      },
      "source": [
        "## **How many matches held in each stadium?**"
      ]
    },
    {
      "cell_type": "code",
      "metadata": {
        "colab": {
          "base_uri": "https://localhost:8080/"
        },
        "id": "Roz0DCKxdvEi",
        "outputId": "6490e6d4-0225-40ec-f911-a19f9f947b91"
      },
      "source": [
        "#Matches played in each venue\r\n",
        "ipl['venue'].value_counts()"
      ],
      "execution_count": 67,
      "outputs": [
        {
          "output_type": "execute_result",
          "data": {
            "text/plain": [
              "Dubai International Cricket Stadium    26\n",
              "Sheikh Zayed Stadium, Abu Dhabi        22\n",
              "Sharjah Cricket Stadium                12\n",
              "Name: venue, dtype: int64"
            ]
          },
          "metadata": {
            "tags": []
          },
          "execution_count": 67
        }
      ]
    },
    {
      "cell_type": "code",
      "metadata": {
        "colab": {
          "base_uri": "https://localhost:8080/",
          "height": 319
        },
        "id": "NRNZKigMQyet",
        "outputId": "00d1cb1d-1850-4ac0-8e4c-f3e2660f1fd9"
      },
      "source": [
        "plt.figure(figsize=(5,5))\r\n",
        "labels=ipl['venue'].value_counts().index\r\n",
        "data=ipl['venue'].value_counts().values\r\n",
        "color=['tomato', 'fuchsia', 'blue']\r\n",
        "plt.pie(data,labels=labels,colors=color,autopct=\"%1.1f%%\")\r\n",
        "plt.title(\"Percentage of matches played in each stadium\")\r\n",
        "plt.show()"
      ],
      "execution_count": 68,
      "outputs": [
        {
          "output_type": "display_data",
          "data": {
            "image/png": "[encoded data removed]",
            "text/plain": [
              "<Figure size 360x360 with 1 Axes>"
            ]
          },
          "metadata": {
            "tags": []
          }
        }
      ]
    },
    {
      "cell_type": "markdown",
      "metadata": {
        "id": "p-MyWE1kS77H"
      },
      "source": [
        "**Observations**\r\n",
        "\r\n",
        "Dubai International Cricket Stadium hosted 43% matches along with 2 play off matches(including IPL2020 Final between MI vs DC) "
      ]
    },
    {
      "cell_type": "markdown",
      "metadata": {
        "id": "8Xy5NygnJRcB"
      },
      "source": [
        "## **How many matches each team played (including playoffs) ?**"
      ]
    },
    {
      "cell_type": "code",
      "metadata": {
        "id": "FiM6vhmZRTix",
        "colab": {
          "base_uri": "https://localhost:8080/"
        },
        "outputId": "beba43b0-0c74-4c93-e080-43c530a033be"
      },
      "source": [
        "ipl_teams=pd.concat([ipl['team1'],ipl['team2']])\r\n",
        "ipl_teams.value_counts()"
      ],
      "execution_count": 69,
      "outputs": [
        {
          "output_type": "execute_result",
          "data": {
            "text/plain": [
              "DC      17\n",
              "SRH     16\n",
              "MI      16\n",
              "RCB     15\n",
              "CSK     14\n",
              "KKR     14\n",
              "KXIP    14\n",
              "RR      14\n",
              "dtype: int64"
            ]
          },
          "metadata": {
            "tags": []
          },
          "execution_count": 69
        }
      ]
    },
    {
      "cell_type": "code",
      "metadata": {
        "colab": {
          "base_uri": "https://localhost:8080/",
          "height": 301
        },
        "id": "5raFP7khJhaj",
        "outputId": "b27b0035-e68f-4ca6-e00b-f38ab90df1ea"
      },
      "source": [
        "plt.figure(figsize=(7,4))\r\n",
        "x=ipl_teams.value_counts().index\r\n",
        "y=ipl_teams.value_counts().values\r\n",
        "colors=['#3399ff','orangered','blue', '#ff003d',  'indigo',\"fuchsia\",'tomato','#ffff4d']\r\n",
        "plt.bar(x,y,color=colors)\r\n",
        "plt.xlabel(\"Teams\")\r\n",
        "plt.ylabel(\"No.of matches\")\r\n",
        "plt.title(\"No.of matches played by each team\")\r\n",
        "plt.show()"
      ],
      "execution_count": 70,
      "outputs": [
        {
          "output_type": "display_data",
          "data": {
            "image/png": "[encoded data removed]",
            "text/plain": [
              "<Figure size 504x288 with 1 Axes>"
            ]
          },
          "metadata": {
            "tags": []
          }
        }
      ]
    },
    {
      "cell_type": "markdown",
      "metadata": {
        "id": "6aKAXT4AUOCZ"
      },
      "source": [
        "**Observations** \r\n",
        "\r\n",
        "Each team plays 14 matches upto playoffs, but the top 4 teams plays additional playoff matches,here \r\n",
        "*   DC plays total 3 playoff matches including final with MI\r\n",
        "*   SRH,MI played two playoff matches\r\n",
        "*   RCB played only one playoff match\r\n",
        "\r\n",
        "\r\n"
      ]
    },
    {
      "cell_type": "code",
      "metadata": {
        "id": "NxeXGm45HZ0q",
        "colab": {
          "base_uri": "https://localhost:8080/",
          "height": 322
        },
        "outputId": "eebe9866-86ab-4c9c-d536-aa285f436a76"
      },
      "source": [
        "# We can also represent the above barplot using seaborn countplot\r\n",
        "sns.countplot(ipl_teams)\r\n",
        "plt.show()"
      ],
      "execution_count": 71,
      "outputs": [
        {
          "output_type": "stream",
          "text": [
            "/usr/local/lib/python3.6/dist-packages/seaborn/_decorators.py:43: FutureWarning: Pass the following variable as a keyword arg: x. From version 0.12, the only valid positional argument will be `data`, and passing other arguments without an explicit keyword will result in an error or misinterpretation.\n",
            "  FutureWarning\n"
          ],
          "name": "stderr"
        },
        {
          "output_type": "display_data",
          "data": {
            "image/png": "[encoded data removed]",
            "text/plain": [
              "<Figure size 432x288 with 1 Axes>"
            ]
          },
          "metadata": {
            "tags": []
          }
        }
      ]
    },
    {
      "cell_type": "markdown",
      "metadata": {
        "id": "BcKHxISXO2Bt"
      },
      "source": [
        "## **No. of matches won by each team?**"
      ]
    },
    {
      "cell_type": "code",
      "metadata": {
        "colab": {
          "base_uri": "https://localhost:8080/"
        },
        "id": "f_LhwqwWSIGW",
        "outputId": "660a199d-d406-482c-d41f-6349327fc936"
      },
      "source": [
        "ipl['winner'].value_counts()"
      ],
      "execution_count": 72,
      "outputs": [
        {
          "output_type": "execute_result",
          "data": {
            "text/plain": [
              "MI      11\n",
              "DC       9\n",
              "SRH      8\n",
              "RCB      7\n",
              "KKR      7\n",
              "CSK      6\n",
              "KXIP     6\n",
              "RR       6\n",
              "Name: winner, dtype: int64"
            ]
          },
          "metadata": {
            "tags": []
          },
          "execution_count": 72
        }
      ]
    },
    {
      "cell_type": "code",
      "metadata": {
        "colab": {
          "base_uri": "https://localhost:8080/",
          "height": 316
        },
        "id": "LlGo71PJXDZz",
        "outputId": "a5d9cf40-576b-4181-8871-a36f0e6934de"
      },
      "source": [
        "plt.figure(figsize=(8,4))\r\n",
        "x=ipl['winner'].value_counts().index\r\n",
        "y=ipl['winner'].value_counts().values\r\n",
        "color=['blue','#3399ff','orangered', 'red','indigo','yellow',\"fuchsia\",'tomato']\r\n",
        "plt.bar(x,y,color=color)\r\n",
        "plt.xlabel(\"\\nTeams\")\r\n",
        "plt.ylabel(\"No.of matches\")\r\n",
        "plt.title(\"No.of matches won by each team\")\r\n",
        "plt.show()"
      ],
      "execution_count": 73,
      "outputs": [
        {
          "output_type": "display_data",
          "data": {
            "image/png": "[encoded data removed]",
            "text/plain": [
              "<Figure size 576x288 with 1 Axes>"
            ]
          },
          "metadata": {
            "tags": []
          }
        }
      ]
    },
    {
      "cell_type": "markdown",
      "metadata": {
        "id": "D-RHq1bnzmIj"
      },
      "source": [
        "**Observations**\r\n",
        "\r\n",
        "MI team won the 11 matches out 16 matches\r\n"
      ]
    },
    {
      "cell_type": "markdown",
      "metadata": {
        "id": "r497NVAaeLpm"
      },
      "source": [
        "## **Winning Percentage of teams**"
      ]
    },
    {
      "cell_type": "code",
      "metadata": {
        "colab": {
          "base_uri": "https://localhost:8080/",
          "height": 284
        },
        "id": "_EYyvqqAYyyj",
        "outputId": "51a28c54-8754-4cdb-f0e6-fe27277fdc3d"
      },
      "source": [
        "matches_played=pd.concat([ipl['team1'],ipl['team2']])\r\n",
        "mp_df=matches_played.value_counts().reset_index()\r\n",
        "winner_df=ipl['winner'].value_counts().reset_index()\r\n",
        "table_df =pd.merge(mp_df,winner_df,on='index')\r\n",
        "table_df.columns=['Team','Total matches','Winner']\r\n",
        "table_df['Percentage']=(table_df['Winner'] / table_df['Total matches']) * 100 \r\n",
        "table_df"
      ],
      "execution_count": 25,
      "outputs": [
        {
          "output_type": "execute_result",
          "data": {
            "text/html": [
              "<div>\n",
              "<style scoped>\n",
              "    .dataframe tbody tr th:only-of-type {\n",
              "        vertical-align: middle;\n",
              "    }\n",
              "\n",
              "    .dataframe tbody tr th {\n",
              "        vertical-align: top;\n",
              "    }\n",
              "\n",
              "    .dataframe thead th {\n",
              "        text-align: right;\n",
              "    }\n",
              "</style>\n",
              "<table border=\"1\" class=\"dataframe\">\n",
              "  <thead>\n",
              "    <tr style=\"text-align: right;\">\n",
              "      <th></th>\n",
              "      <th>Team</th>\n",
              "      <th>Total matches</th>\n",
              "      <th>Winner</th>\n",
              "      <th>Percentage</th>\n",
              "    </tr>\n",
              "  </thead>\n",
              "  <tbody>\n",
              "    <tr>\n",
              "      <th>0</th>\n",
              "      <td>DC</td>\n",
              "      <td>17</td>\n",
              "      <td>9</td>\n",
              "      <td>52.941176</td>\n",
              "    </tr>\n",
              "    <tr>\n",
              "      <th>1</th>\n",
              "      <td>SRH</td>\n",
              "      <td>16</td>\n",
              "      <td>8</td>\n",
              "      <td>50.000000</td>\n",
              "    </tr>\n",
              "    <tr>\n",
              "      <th>2</th>\n",
              "      <td>MI</td>\n",
              "      <td>16</td>\n",
              "      <td>11</td>\n",
              "      <td>68.750000</td>\n",
              "    </tr>\n",
              "    <tr>\n",
              "      <th>3</th>\n",
              "      <td>RCB</td>\n",
              "      <td>15</td>\n",
              "      <td>7</td>\n",
              "      <td>46.666667</td>\n",
              "    </tr>\n",
              "    <tr>\n",
              "      <th>4</th>\n",
              "      <td>CSK</td>\n",
              "      <td>14</td>\n",
              "      <td>6</td>\n",
              "      <td>42.857143</td>\n",
              "    </tr>\n",
              "    <tr>\n",
              "      <th>5</th>\n",
              "      <td>KKR</td>\n",
              "      <td>14</td>\n",
              "      <td>7</td>\n",
              "      <td>50.000000</td>\n",
              "    </tr>\n",
              "    <tr>\n",
              "      <th>6</th>\n",
              "      <td>KXIP</td>\n",
              "      <td>14</td>\n",
              "      <td>6</td>\n",
              "      <td>42.857143</td>\n",
              "    </tr>\n",
              "    <tr>\n",
              "      <th>7</th>\n",
              "      <td>RR</td>\n",
              "      <td>14</td>\n",
              "      <td>6</td>\n",
              "      <td>42.857143</td>\n",
              "    </tr>\n",
              "  </tbody>\n",
              "</table>\n",
              "</div>"
            ],
            "text/plain": [
              "   Team  Total matches  Winner  Percentage\n",
              "0    DC             17       9   52.941176\n",
              "1   SRH             16       8   50.000000\n",
              "2    MI             16      11   68.750000\n",
              "3   RCB             15       7   46.666667\n",
              "4   CSK             14       6   42.857143\n",
              "5   KKR             14       7   50.000000\n",
              "6  KXIP             14       6   42.857143\n",
              "7    RR             14       6   42.857143"
            ]
          },
          "metadata": {
            "tags": []
          },
          "execution_count": 25
        }
      ]
    },
    {
      "cell_type": "markdown",
      "metadata": {
        "id": "hnbDHUjPeTkA"
      },
      "source": [
        "**Observations**\r\n",
        "\r\n",
        "MI team won 68% of their matches\r\n",
        "\r\n",
        "MI is most winning team in ipl 2020 season"
      ]
    },
    {
      "cell_type": "markdown",
      "metadata": {
        "id": "DPXrTtaDSYo3"
      },
      "source": [
        "## **Top 7 Most Man of the Match winners**"
      ]
    },
    {
      "cell_type": "code",
      "metadata": {
        "colab": {
          "base_uri": "https://localhost:8080/"
        },
        "id": "G1EQMYF3mz5l",
        "outputId": "f49f5ef0-9320-43af-babd-33bf2f5cda9c"
      },
      "source": [
        "#Most player_of_match winners\r\n",
        "pom=ipl['player_of_match'].value_counts()[:7]\r\n",
        "pom"
      ],
      "execution_count": 26,
      "outputs": [
        {
          "output_type": "execute_result",
          "data": {
            "text/plain": [
              "TA Boult          3\n",
              "KL Rahul          3\n",
              "RD Gaikwad        3\n",
              "AB de Villiers    3\n",
              "AS Yadav          2\n",
              "SV Samson         2\n",
              "Anrich Nortje     2\n",
              "Name: player_of_match, dtype: int64"
            ]
          },
          "metadata": {
            "tags": []
          },
          "execution_count": 26
        }
      ]
    },
    {
      "cell_type": "markdown",
      "metadata": {
        "id": "N_m6IBQGezBr"
      },
      "source": [
        "**Observations**\r\n",
        "\r\n",
        "In top 7 most man of the match winners 4 players are indian cricketers"
      ]
    },
    {
      "cell_type": "code",
      "metadata": {
        "colab": {
          "base_uri": "https://localhost:8080/",
          "height": 300
        },
        "id": "E53GFFhFemmI",
        "outputId": "82a6f7ab-da6d-4ab7-aa81-b83d26e8063b"
      },
      "source": [
        "plt.figure(figsize=(8,4))\r\n",
        "sns.barplot(x=pom.index, y=pom, orient='v')\r\n",
        "plt.ylabel('No. of MOM awards won\\n')\r\n",
        "plt.xlabel('\\nPlayers')\r\n",
        "plt.show()"
      ],
      "execution_count": 27,
      "outputs": [
        {
          "output_type": "display_data",
          "data": {
            "image/png": "[encoded data removed]",
            "text/plain": [
              "<Figure size 576x288 with 1 Axes>"
            ]
          },
          "metadata": {
            "tags": []
          }
        }
      ]
    },
    {
      "cell_type": "markdown",
      "metadata": {
        "id": "WUX7Y14GQzfB"
      },
      "source": [
        "## **Most toss winning teams**"
      ]
    },
    {
      "cell_type": "code",
      "metadata": {
        "colab": {
          "base_uri": "https://localhost:8080/"
        },
        "id": "3GQwzOgGQyz9",
        "outputId": "f571223b-e2a7-4f4f-d4ca-92a637897d93"
      },
      "source": [
        "ipl['toss_winner'].value_counts()"
      ],
      "execution_count": 28,
      "outputs": [
        {
          "output_type": "execute_result",
          "data": {
            "text/plain": [
              "SRH     11\n",
              "DC      10\n",
              "CSK      8\n",
              "MI       8\n",
              "RR       7\n",
              "RCB      6\n",
              "KKR      6\n",
              "KXIP     4\n",
              "Name: toss_winner, dtype: int64"
            ]
          },
          "metadata": {
            "tags": []
          },
          "execution_count": 28
        }
      ]
    },
    {
      "cell_type": "markdown",
      "metadata": {
        "id": "7XvoYSFlRZLR"
      },
      "source": [
        "**Observations**\r\n",
        "\r\n",
        "SRH team won the toss 11 times\r\n",
        "\r\n",
        "Dc team won the toss 10 times\r\n",
        "\r\n",
        "KXIP team won the toss only 4 times in their 14 matches"
      ]
    },
    {
      "cell_type": "markdown",
      "metadata": {
        "id": "xl555a1nfqvm"
      },
      "source": [
        "## **What was the decision taken by captains when they won the toss?**"
      ]
    },
    {
      "cell_type": "code",
      "metadata": {
        "colab": {
          "base_uri": "https://localhost:8080/"
        },
        "id": "19tJ4SV3O-zU",
        "outputId": "7cbc080c-4926-48f6-a7e6-a1da0ac72a5f"
      },
      "source": [
        "td=ipl['toss_decision'].value_counts()\r\n",
        "td"
      ],
      "execution_count": 29,
      "outputs": [
        {
          "output_type": "execute_result",
          "data": {
            "text/plain": [
              "field    33\n",
              "bat      27\n",
              "Name: toss_decision, dtype: int64"
            ]
          },
          "metadata": {
            "tags": []
          },
          "execution_count": 29
        }
      ]
    },
    {
      "cell_type": "code",
      "metadata": {
        "colab": {
          "base_uri": "https://localhost:8080/",
          "height": 319
        },
        "id": "h4J4-MNugDvR",
        "outputId": "6a79310e-93ab-4cb2-a7c6-3d11d2f945e8"
      },
      "source": [
        "plt.figure(figsize=(5,5))\r\n",
        "labels=td.index\r\n",
        "data=td.values\r\n",
        "color=['orangered','green']\r\n",
        "plt.pie(data,labels=labels,colors=color,autopct=\"%1.1f%%\",counterclock=False,pctdistance=0.6)\r\n",
        "plt.title(\"toss decision \")\r\n",
        "plt.show()"
      ],
      "execution_count": 30,
      "outputs": [
        {
          "output_type": "display_data",
          "data": {
            "image/png": "[encoded data removed]",
            "text/plain": [
              "<Figure size 360x360 with 1 Axes>"
            ]
          },
          "metadata": {
            "tags": []
          }
        }
      ]
    },
    {
      "cell_type": "markdown",
      "metadata": {
        "id": "P9o7q-sZ0YC_"
      },
      "source": [
        "**Observations**\r\n",
        "\r\n",
        "After winning toss Captains choose bat first in 27 times out of 60 which is 45%, field first in 33 times(55%)"
      ]
    },
    {
      "cell_type": "markdown",
      "metadata": {
        "id": "Ue9VPPw8pCCT"
      },
      "source": [
        "# **Is Toss-winning helped in Match-winning?**"
      ]
    },
    {
      "cell_type": "code",
      "metadata": {
        "colab": {
          "base_uri": "https://localhost:8080/"
        },
        "id": "N0JVgLoQmjRT",
        "outputId": "a5260cf4-bd48-4578-f458-ad41c592afbf"
      },
      "source": [
        "tw=ipl['toss_winner']==ipl['winner']\r\n",
        "tw.value_counts()"
      ],
      "execution_count": 31,
      "outputs": [
        {
          "output_type": "execute_result",
          "data": {
            "text/plain": [
              "False    35\n",
              "True     25\n",
              "dtype: int64"
            ]
          },
          "metadata": {
            "tags": []
          },
          "execution_count": 31
        }
      ]
    },
    {
      "cell_type": "code",
      "metadata": {
        "colab": {
          "base_uri": "https://localhost:8080/",
          "height": 319
        },
        "id": "J_Qklm3WmTLG",
        "outputId": "6764509d-9181-4430-eb33-cf580a48a2f3"
      },
      "source": [
        "plt.figure(figsize=(5,5))\r\n",
        "labels=tw.value_counts().index\r\n",
        "data=tw.value_counts().values\r\n",
        "plt.pie(data,labels=labels,autopct=\"%1.1f%%\")\r\n",
        "plt.title(\"toss winner \")\r\n",
        "plt.show()"
      ],
      "execution_count": 32,
      "outputs": [
        {
          "output_type": "display_data",
          "data": {
            "image/png": "[encoded data removed]",
            "text/plain": [
              "<Figure size 360x360 with 1 Axes>"
            ]
          },
          "metadata": {
            "tags": []
          }
        }
      ]
    },
    {
      "cell_type": "markdown",
      "metadata": {
        "id": "IZyQfVz1pPls"
      },
      "source": [
        "**Observations**\r\n",
        "\r\n",
        "toss_winner won the match in 25 instances out of 60 (41.7%)\r\n",
        "remaining 35 instances toss_winner failed to capitalize the toss wining advantage(58.3%).\r\n",
        "Toss winning in a match give better chance to win the game."
      ]
    },
    {
      "cell_type": "markdown",
      "metadata": {
        "id": "vdX1HFMaPV9j"
      },
      "source": [
        "## **The teams with the most number of wins per stadium**"
      ]
    },
    {
      "cell_type": "code",
      "metadata": {
        "colab": {
          "base_uri": "https://localhost:8080/"
        },
        "id": "iAqO8MeGO-tZ",
        "outputId": "65f5db78-f8bb-46d5-b437-e516b3589489"
      },
      "source": [
        "teams_per_venue = ipl.groupby('venue')['winner'].value_counts()\r\n",
        "teams_per_venue"
      ],
      "execution_count": 33,
      "outputs": [
        {
          "output_type": "execute_result",
          "data": {
            "text/plain": [
              "venue                                winner\n",
              "Dubai International Cricket Stadium  CSK       4\n",
              "                                     DC        4\n",
              "                                     KXIP      4\n",
              "                                     RCB       4\n",
              "                                     SRH       4\n",
              "                                     MI        3\n",
              "                                     KKR       2\n",
              "                                     RR        1\n",
              "Sharjah Cricket Stadium              DC        3\n",
              "                                     KXIP      2\n",
              "                                     MI        2\n",
              "                                     RR        2\n",
              "                                     SRH       2\n",
              "                                     RCB       1\n",
              "Sheikh Zayed Stadium, Abu Dhabi      MI        6\n",
              "                                     KKR       5\n",
              "                                     RR        3\n",
              "                                     CSK       2\n",
              "                                     DC        2\n",
              "                                     RCB       2\n",
              "                                     SRH       2\n",
              "Name: winner, dtype: int64"
            ]
          },
          "metadata": {
            "tags": []
          },
          "execution_count": 33
        }
      ]
    },
    {
      "cell_type": "markdown",
      "metadata": {
        "id": "Yy89oABKkIzB"
      },
      "source": [
        "**Observations**\r\n",
        "\r\n",
        "CSK won 4 Matches in Dubai stadium,2 matches in Abu Dhabi stadium and didn't won the match in Sharjah  Stadium\r\n",
        "\r\n",
        "Whenevr CSK plays next match in Dubai stadium it gaves confidence to win the game beacause they won it previous games"
      ]
    },
    {
      "cell_type": "markdown",
      "metadata": {
        "id": "DP0fx6C7nJWu"
      },
      "source": [
        "## **Which umpire has officiated the most number of  matches?**"
      ]
    },
    {
      "cell_type": "code",
      "metadata": {
        "colab": {
          "base_uri": "https://localhost:8080/"
        },
        "id": "XXAQQX-8llc3",
        "outputId": "7b15ce00-3593-45aa-f1dc-e92d3bb5b52f"
      },
      "source": [
        "ipl_umpires=pd.concat([ipl['umpire1'],ipl['umpire2'],ipl['umpire3']])\r\n",
        "ipl_umpires.value_counts()"
      ],
      "execution_count": 34,
      "outputs": [
        {
          "output_type": "execute_result",
          "data": {
            "text/plain": [
              "Sundaram Ravi                18\n",
              "Chris Gaffaney               18\n",
              "Paul Reiffel                 18\n",
              "Nitin Menon                  18\n",
              "KN Ananthapadmanabhan        17\n",
              "Virender Sharma              16\n",
              "Anil Chaudhary               16\n",
              "Richard Illingworth          14\n",
              "Chettithody Shamshuddin      14\n",
              "Krishnamachari Srinivasan     6\n",
              "Ulhas Gandhe                  5\n",
              "Pashchim Pathak               5\n",
              "Anil Dandekar                 5\n",
              "Vineet Kulkarni               5\n",
              "Yeshwant Barde                5\n",
              "dtype: int64"
            ]
          },
          "metadata": {
            "tags": []
          },
          "execution_count": 34
        }
      ]
    },
    {
      "cell_type": "markdown",
      "metadata": {
        "id": "QSCTbBKIoLth"
      },
      "source": [
        "**Obseravtions**\r\n",
        "\r\n",
        "Due to COVID-19 pandemic only 15 members officiated IPL 2020 matches,in that 9 umpires officated above 14 matches"
      ]
    },
    {
      "cell_type": "markdown",
      "metadata": {
        "id": "-BqIWIxTrFBu"
      },
      "source": [
        "## **Results of all the matches**"
      ]
    },
    {
      "cell_type": "code",
      "metadata": {
        "id": "GbDwPQ7qpkXq",
        "colab": {
          "base_uri": "https://localhost:8080/"
        },
        "outputId": "4146430d-ffb2-4c8c-8d56-b4626309fbaa"
      },
      "source": [
        "ipl['result'].value_counts()\r\n"
      ],
      "execution_count": 35,
      "outputs": [
        {
          "output_type": "execute_result",
          "data": {
            "text/plain": [
              "normal    56\n",
              "tie        4\n",
              "Name: result, dtype: int64"
            ]
          },
          "metadata": {
            "tags": []
          },
          "execution_count": 35
        }
      ]
    },
    {
      "cell_type": "markdown",
      "metadata": {
        "id": "r82FepyZrNHe"
      },
      "source": [
        "**Observations**\r\n",
        "\r\n",
        "\r\n",
        "*   56 matches out of 60 has normal result\r\n",
        "*   4 matches tie means it leads to super over for conclusive result\r\n",
        "\r\n",
        "\r\n",
        "\r\n"
      ]
    },
    {
      "cell_type": "markdown",
      "metadata": {
        "id": "IWLomTJ3pMfZ"
      },
      "source": [
        "## **Is it better to defend or chase in IPL?**"
      ]
    },
    {
      "cell_type": "code",
      "metadata": {
        "id": "5owKYYkKssgm",
        "colab": {
          "base_uri": "https://localhost:8080/"
        },
        "outputId": "9180a116-35a2-4c89-c4e9-1140a92d89a5"
      },
      "source": [
        "batting_first = ipl[ipl['win_by_runs']!=0]\r\n",
        "batting_second = ipl[ipl['win_by_wickets']!=0] \r\n",
        "print(\"batting first team won \"+str(batting_first['id'].count())+\" matches\")\r\n",
        "print(\"battting second team won \"+str(batting_second['id'].count())+\" matches\")"
      ],
      "execution_count": 36,
      "outputs": [
        {
          "output_type": "stream",
          "text": [
            "batting first team won 27 matches\n",
            "battting second team won 29 matches\n"
          ],
          "name": "stdout"
        }
      ]
    },
    {
      "cell_type": "markdown",
      "metadata": {
        "id": "FKLZrAcLVnXQ"
      },
      "source": [
        "**Observations**\r\n",
        "\r\n",
        "\r\n",
        "*   Batting first team won the matches 27 times\r\n",
        "*   Batting second team won the matches 29 times\r\n",
        "*   remaining 4 matches result was declared in super over\r\n",
        "*   so there are equal opportuinty to won the match for both batting first and batting second teams"
      ]
    },
    {
      "cell_type": "markdown",
      "metadata": {
        "id": "Mrc_k1HkviF2"
      },
      "source": [
        "## **Best venue for defending score**"
      ]
    },
    {
      "cell_type": "code",
      "metadata": {
        "colab": {
          "base_uri": "https://localhost:8080/"
        },
        "id": "aEwQMdStr5-T",
        "outputId": "7ddc5e1e-1500-4a6b-f264-a7c1d9a908f4"
      },
      "source": [
        "batting_first['venue'].value_counts()\r\n",
        "#ipl.venue[ipl.win_by_runs!=0].mode()"
      ],
      "execution_count": 37,
      "outputs": [
        {
          "output_type": "execute_result",
          "data": {
            "text/plain": [
              "Dubai International Cricket Stadium    14\n",
              "Sheikh Zayed Stadium, Abu Dhabi         8\n",
              "Sharjah Cricket Stadium                 5\n",
              "Name: venue, dtype: int64"
            ]
          },
          "metadata": {
            "tags": []
          },
          "execution_count": 37
        }
      ]
    },
    {
      "cell_type": "markdown",
      "metadata": {
        "id": "1I-nDdBJvwIO"
      },
      "source": [
        "**Observations**\r\n",
        "\r\n",
        "Dubai International Cricket Stadium is best venue to defend score"
      ]
    },
    {
      "cell_type": "markdown",
      "metadata": {
        "id": "7M6ePWu8wMKX"
      },
      "source": [
        "## **Best venue to chase the target**"
      ]
    },
    {
      "cell_type": "code",
      "metadata": {
        "colab": {
          "base_uri": "https://localhost:8080/"
        },
        "id": "DMs_NSWNsAs0",
        "outputId": "e3318a96-0e7c-444b-9bc9-3f3e07d55bd7"
      },
      "source": [
        "batting_second['venue'].value_counts()\r\n",
        "#ipl.venue[ipl.win_by_wickets!=0].mode()"
      ],
      "execution_count": 38,
      "outputs": [
        {
          "output_type": "execute_result",
          "data": {
            "text/plain": [
              "Sheikh Zayed Stadium, Abu Dhabi        13\n",
              "Dubai International Cricket Stadium     9\n",
              "Sharjah Cricket Stadium                 7\n",
              "Name: venue, dtype: int64"
            ]
          },
          "metadata": {
            "tags": []
          },
          "execution_count": 38
        }
      ]
    },
    {
      "cell_type": "markdown",
      "metadata": {
        "id": "8aFH90d0wkor"
      },
      "source": [
        "**Observations**\r\n",
        "\r\n",
        "Sheikh Zayed Stadium, Abu Dhabi is best to chase the target"
      ]
    },
    {
      "cell_type": "markdown",
      "metadata": {
        "id": "ngJWmUIJ_fgi"
      },
      "source": [
        "### **Best score defending teams**"
      ]
    },
    {
      "cell_type": "code",
      "metadata": {
        "colab": {
          "base_uri": "https://localhost:8080/"
        },
        "id": "9nZosvVTwtv8",
        "outputId": "f6145e92-7dae-40e5-c801-528552ac4da3"
      },
      "source": [
        "batting_first['winner'].value_counts()\r\n",
        "#ipl.winner[ipl.win_by_runs!=0].mode()"
      ],
      "execution_count": 39,
      "outputs": [
        {
          "output_type": "execute_result",
          "data": {
            "text/plain": [
              "DC      6\n",
              "MI      5\n",
              "KKR     5\n",
              "SRH     4\n",
              "RCB     3\n",
              "KXIP    2\n",
              "CSK     1\n",
              "RR      1\n",
              "Name: winner, dtype: int64"
            ]
          },
          "metadata": {
            "tags": []
          },
          "execution_count": 39
        }
      ]
    },
    {
      "cell_type": "code",
      "metadata": {
        "id": "OEykA3tcKF59",
        "colab": {
          "base_uri": "https://localhost:8080/",
          "height": 285
        },
        "outputId": "09b29909-2ef8-4708-f906-16e63a5be8e9"
      },
      "source": [
        "plt.bar(list(batting_first['winner'].value_counts().keys()),list(batting_first['winner'].value_counts()))\r\n",
        "plt.xlabel(\"Teams\")\r\n",
        "plt.ylabel(\"No_Of_Times\")\r\n",
        "plt.show()"
      ],
      "execution_count": 40,
      "outputs": [
        {
          "output_type": "display_data",
          "data": {
            "image/png": "[encoded data removed]",
            "text/plain": [
              "<Figure size 432x288 with 1 Axes>"
            ]
          },
          "metadata": {
            "tags": []
          }
        }
      ]
    },
    {
      "cell_type": "markdown",
      "metadata": {
        "id": "GnpD4Fd9_rzb"
      },
      "source": [
        "### **Best chasing teams**"
      ]
    },
    {
      "cell_type": "code",
      "metadata": {
        "colab": {
          "base_uri": "https://localhost:8080/"
        },
        "id": "r_GxE9gCw0Zu",
        "outputId": "89bee59d-0975-4864-888c-703e75df2fbe"
      },
      "source": [
        "batting_second['winner'].value_counts()\r\n",
        "\r\n",
        "#ipl.winner[ipl.win_by_wickets!=0].mode()"
      ],
      "execution_count": 41,
      "outputs": [
        {
          "output_type": "execute_result",
          "data": {
            "text/plain": [
              "MI      6\n",
              "CSK     5\n",
              "RR      5\n",
              "SRH     4\n",
              "RCB     3\n",
              "KXIP    3\n",
              "DC      2\n",
              "KKR     1\n",
              "Name: winner, dtype: int64"
            ]
          },
          "metadata": {
            "tags": []
          },
          "execution_count": 41
        }
      ]
    },
    {
      "cell_type": "markdown",
      "metadata": {
        "id": "nIrdcLGv_8J-"
      },
      "source": [
        "**Observations**\r\n",
        "\r\n",
        "MI team is best in chasing the total compared to other teams out of 11 wins they won 6 matches by chasing. MI batting depth allows them to chase any target put by opponent"
      ]
    },
    {
      "cell_type": "code",
      "metadata": {
        "id": "9NYIlrFnyPhV",
        "colab": {
          "base_uri": "https://localhost:8080/",
          "height": 301
        },
        "outputId": "dc67e55f-8e6f-4a5c-d19a-a5e923607795"
      },
      "source": [
        "plt.figure(figsize=(8,4))\r\n",
        "plt.hist(batting_first['win_by_runs'],bins=40)\r\n",
        "plt.title(\"Distribution of runs\")\r\n",
        "plt.xlabel(\"runs\")\r\n",
        "plt.show()"
      ],
      "execution_count": 42,
      "outputs": [
        {
          "output_type": "display_data",
          "data": {
            "image/png": "[encoded data removed]",
            "text/plain": [
              "<Figure size 576x288 with 1 Axes>"
            ]
          },
          "metadata": {
            "tags": []
          }
        }
      ]
    },
    {
      "cell_type": "code",
      "metadata": {
        "colab": {
          "base_uri": "https://localhost:8080/",
          "height": 289
        },
        "id": "ISxnZWhjs5vC",
        "outputId": "3c7d15bb-6192-4f62-ea65-11bf34578c7d"
      },
      "source": [
        "sns.ecdfplot(data=batting_first, x=\"win_by_runs\")\r\n",
        "plt.show()"
      ],
      "execution_count": 43,
      "outputs": [
        {
          "output_type": "display_data",
          "data": {
            "image/png": "[encoded data removed]",
            "text/plain": [
              "<Figure size 432x288 with 1 Axes>"
            ]
          },
          "metadata": {
            "tags": []
          }
        }
      ]
    },
    {
      "cell_type": "markdown",
      "metadata": {
        "id": "Drq-ymOx1jec"
      },
      "source": [
        "### **Observations**\r\n",
        "Batting first team won the match in 27 times out of 60 matches\r\n",
        "In that 40% of matches times team won the match by 1 to 20 runs(win_by_runs)\r\n",
        "\r\n",
        "in this 27 matches team battibg first teams has bowled better than batting second"
      ]
    },
    {
      "cell_type": "code",
      "metadata": {
        "id": "lXBw_RImyd1L",
        "colab": {
          "base_uri": "https://localhost:8080/",
          "height": 285
        },
        "outputId": "c1696e6b-1339-4c26-cb9b-373284f5eae4"
      },
      "source": [
        "plt.figure(figsize=(7,4))\r\n",
        "plt.hist(batting_second['win_by_wickets'],bins=40)\r\n",
        "plt.xlabel(\"Wickets\")\r\n",
        "plt.show()"
      ],
      "execution_count": 44,
      "outputs": [
        {
          "output_type": "display_data",
          "data": {
            "image/png": "[encoded data removed]",
            "text/plain": [
              "<Figure size 504x288 with 1 Axes>"
            ]
          },
          "metadata": {
            "tags": []
          }
        }
      ]
    },
    {
      "cell_type": "code",
      "metadata": {
        "colab": {
          "base_uri": "https://localhost:8080/",
          "height": 289
        },
        "id": "Gb23W2e5BR_d",
        "outputId": "01a0d7cb-88ae-4cc8-badb-9f9a752ca012"
      },
      "source": [
        "sns.ecdfplot(data=batting_second, x=\"win_by_wickets\")\r\n",
        "plt.show()"
      ],
      "execution_count": 45,
      "outputs": [
        {
          "output_type": "display_data",
          "data": {
            "image/png": "[encoded data removed]",
            "text/plain": [
              "<Figure size 432x288 with 1 Axes>"
            ]
          },
          "metadata": {
            "tags": []
          }
        }
      ]
    },
    {
      "cell_type": "markdown",
      "metadata": {
        "id": "ySznCVE3Br6T"
      },
      "source": [
        "**Observations**\r\n",
        "\r\n",
        "According the histogram,cdf we conclude that most of the matches won by 4 to 10 wickets which tells us the teams top 6 batsmen chasing the total target through out the season. "
      ]
    },
    {
      "cell_type": "markdown",
      "metadata": {
        "id": "l0ZE6U98wHjC"
      },
      "source": [
        "## **Which Team had won by maximum wickets?**"
      ]
    },
    {
      "cell_type": "code",
      "metadata": {
        "id": "TeTgGobQhbma",
        "colab": {
          "base_uri": "https://localhost:8080/",
          "height": 35
        },
        "outputId": "2ded4b25-7860-4b08-eafc-3003f24a13b4"
      },
      "source": [
        "ipl.loc[ipl['win_by_wickets'].idxmax()]['winner']"
      ],
      "execution_count": 46,
      "outputs": [
        {
          "output_type": "execute_result",
          "data": {
            "application/vnd.google.colaboratory.intrinsic+json": {
              "type": "string"
            },
            "text/plain": [
              "'CSK'"
            ]
          },
          "metadata": {
            "tags": []
          },
          "execution_count": 46
        }
      ]
    },
    {
      "cell_type": "markdown",
      "metadata": {
        "id": "uvQQ8A3j-Laq"
      },
      "source": [
        "## **Which Team had won by maximum runs?**"
      ]
    },
    {
      "cell_type": "code",
      "metadata": {
        "id": "sIkEqQulhbp9",
        "colab": {
          "base_uri": "https://localhost:8080/",
          "height": 35
        },
        "outputId": "3f4b1061-80aa-4aa6-9e67-add6dd55c24f"
      },
      "source": [
        "ipl.loc[ipl['win_by_runs'].idxmax()]['winner']"
      ],
      "execution_count": 47,
      "outputs": [
        {
          "output_type": "execute_result",
          "data": {
            "application/vnd.google.colaboratory.intrinsic+json": {
              "type": "string"
            },
            "text/plain": [
              "'KXIP'"
            ]
          },
          "metadata": {
            "tags": []
          },
          "execution_count": 47
        }
      ]
    },
    {
      "cell_type": "markdown",
      "metadata": {
        "id": "STRGsh7NHMT1"
      },
      "source": [
        "## **Team Stats**"
      ]
    },
    {
      "cell_type": "code",
      "metadata": {
        "id": "5MjZ50bOhb2p",
        "colab": {
          "base_uri": "https://localhost:8080/",
          "height": 284
        },
        "outputId": "149b9bd8-6624-4990-aad6-670d5d3eb214"
      },
      "source": [
        "bf=batting_first['winner'].value_counts().reset_index()\r\n",
        "bs=batting_second['winner'].value_counts().reset_index()\r\n",
        "bfs=pd.merge(bf,bs,on='index')\r\n",
        "bfs.columns=['Team','batting first','batting second']\r\n",
        "bfs"
      ],
      "execution_count": 75,
      "outputs": [
        {
          "output_type": "execute_result",
          "data": {
            "text/html": [
              "<div>\n",
              "<style scoped>\n",
              "    .dataframe tbody tr th:only-of-type {\n",
              "        vertical-align: middle;\n",
              "    }\n",
              "\n",
              "    .dataframe tbody tr th {\n",
              "        vertical-align: top;\n",
              "    }\n",
              "\n",
              "    .dataframe thead th {\n",
              "        text-align: right;\n",
              "    }\n",
              "</style>\n",
              "<table border=\"1\" class=\"dataframe\">\n",
              "  <thead>\n",
              "    <tr style=\"text-align: right;\">\n",
              "      <th></th>\n",
              "      <th>Team</th>\n",
              "      <th>batting first</th>\n",
              "      <th>batting second</th>\n",
              "    </tr>\n",
              "  </thead>\n",
              "  <tbody>\n",
              "    <tr>\n",
              "      <th>0</th>\n",
              "      <td>DC</td>\n",
              "      <td>6</td>\n",
              "      <td>2</td>\n",
              "    </tr>\n",
              "    <tr>\n",
              "      <th>1</th>\n",
              "      <td>MI</td>\n",
              "      <td>5</td>\n",
              "      <td>6</td>\n",
              "    </tr>\n",
              "    <tr>\n",
              "      <th>2</th>\n",
              "      <td>KKR</td>\n",
              "      <td>5</td>\n",
              "      <td>1</td>\n",
              "    </tr>\n",
              "    <tr>\n",
              "      <th>3</th>\n",
              "      <td>SRH</td>\n",
              "      <td>4</td>\n",
              "      <td>4</td>\n",
              "    </tr>\n",
              "    <tr>\n",
              "      <th>4</th>\n",
              "      <td>RCB</td>\n",
              "      <td>3</td>\n",
              "      <td>3</td>\n",
              "    </tr>\n",
              "    <tr>\n",
              "      <th>5</th>\n",
              "      <td>KXIP</td>\n",
              "      <td>2</td>\n",
              "      <td>3</td>\n",
              "    </tr>\n",
              "    <tr>\n",
              "      <th>6</th>\n",
              "      <td>CSK</td>\n",
              "      <td>1</td>\n",
              "      <td>5</td>\n",
              "    </tr>\n",
              "    <tr>\n",
              "      <th>7</th>\n",
              "      <td>RR</td>\n",
              "      <td>1</td>\n",
              "      <td>5</td>\n",
              "    </tr>\n",
              "  </tbody>\n",
              "</table>\n",
              "</div>"
            ],
            "text/plain": [
              "   Team  batting first  batting second\n",
              "0    DC              6               2\n",
              "1    MI              5               6\n",
              "2   KKR              5               1\n",
              "3   SRH              4               4\n",
              "4   RCB              3               3\n",
              "5  KXIP              2               3\n",
              "6   CSK              1               5\n",
              "7    RR              1               5"
            ]
          },
          "metadata": {
            "tags": []
          },
          "execution_count": 75
        }
      ]
    },
    {
      "cell_type": "code",
      "metadata": {
        "colab": {
          "base_uri": "https://localhost:8080/",
          "height": 284
        },
        "id": "RFHKyo_5GROu",
        "outputId": "5abb2dc0-9d7a-40fc-e8e0-cfa36c04544d"
      },
      "source": [
        "team_stat=pd.merge(table_df,bfs,on=\"Team\")\r\n",
        "team_stat"
      ],
      "execution_count": 76,
      "outputs": [
        {
          "output_type": "execute_result",
          "data": {
            "text/html": [
              "<div>\n",
              "<style scoped>\n",
              "    .dataframe tbody tr th:only-of-type {\n",
              "        vertical-align: middle;\n",
              "    }\n",
              "\n",
              "    .dataframe tbody tr th {\n",
              "        vertical-align: top;\n",
              "    }\n",
              "\n",
              "    .dataframe thead th {\n",
              "        text-align: right;\n",
              "    }\n",
              "</style>\n",
              "<table border=\"1\" class=\"dataframe\">\n",
              "  <thead>\n",
              "    <tr style=\"text-align: right;\">\n",
              "      <th></th>\n",
              "      <th>Team</th>\n",
              "      <th>Total matches</th>\n",
              "      <th>Winner</th>\n",
              "      <th>Percentage</th>\n",
              "      <th>batting first</th>\n",
              "      <th>batting second</th>\n",
              "    </tr>\n",
              "  </thead>\n",
              "  <tbody>\n",
              "    <tr>\n",
              "      <th>0</th>\n",
              "      <td>DC</td>\n",
              "      <td>17</td>\n",
              "      <td>9</td>\n",
              "      <td>52.941176</td>\n",
              "      <td>6</td>\n",
              "      <td>2</td>\n",
              "    </tr>\n",
              "    <tr>\n",
              "      <th>1</th>\n",
              "      <td>SRH</td>\n",
              "      <td>16</td>\n",
              "      <td>8</td>\n",
              "      <td>50.000000</td>\n",
              "      <td>4</td>\n",
              "      <td>4</td>\n",
              "    </tr>\n",
              "    <tr>\n",
              "      <th>2</th>\n",
              "      <td>MI</td>\n",
              "      <td>16</td>\n",
              "      <td>11</td>\n",
              "      <td>68.750000</td>\n",
              "      <td>5</td>\n",
              "      <td>6</td>\n",
              "    </tr>\n",
              "    <tr>\n",
              "      <th>3</th>\n",
              "      <td>RCB</td>\n",
              "      <td>15</td>\n",
              "      <td>7</td>\n",
              "      <td>46.666667</td>\n",
              "      <td>3</td>\n",
              "      <td>3</td>\n",
              "    </tr>\n",
              "    <tr>\n",
              "      <th>4</th>\n",
              "      <td>CSK</td>\n",
              "      <td>14</td>\n",
              "      <td>6</td>\n",
              "      <td>42.857143</td>\n",
              "      <td>1</td>\n",
              "      <td>5</td>\n",
              "    </tr>\n",
              "    <tr>\n",
              "      <th>5</th>\n",
              "      <td>KKR</td>\n",
              "      <td>14</td>\n",
              "      <td>7</td>\n",
              "      <td>50.000000</td>\n",
              "      <td>5</td>\n",
              "      <td>1</td>\n",
              "    </tr>\n",
              "    <tr>\n",
              "      <th>6</th>\n",
              "      <td>KXIP</td>\n",
              "      <td>14</td>\n",
              "      <td>6</td>\n",
              "      <td>42.857143</td>\n",
              "      <td>2</td>\n",
              "      <td>3</td>\n",
              "    </tr>\n",
              "    <tr>\n",
              "      <th>7</th>\n",
              "      <td>RR</td>\n",
              "      <td>14</td>\n",
              "      <td>6</td>\n",
              "      <td>42.857143</td>\n",
              "      <td>1</td>\n",
              "      <td>5</td>\n",
              "    </tr>\n",
              "  </tbody>\n",
              "</table>\n",
              "</div>"
            ],
            "text/plain": [
              "   Team  Total matches  Winner  Percentage  batting first  batting second\n",
              "0    DC             17       9   52.941176              6               2\n",
              "1   SRH             16       8   50.000000              4               4\n",
              "2    MI             16      11   68.750000              5               6\n",
              "3   RCB             15       7   46.666667              3               3\n",
              "4   CSK             14       6   42.857143              1               5\n",
              "5   KKR             14       7   50.000000              5               1\n",
              "6  KXIP             14       6   42.857143              2               3\n",
              "7    RR             14       6   42.857143              1               5"
            ]
          },
          "metadata": {
            "tags": []
          },
          "execution_count": 76
        }
      ]
    },
    {
      "cell_type": "markdown",
      "metadata": {
        "id": "LrBWEI3aeJu1"
      },
      "source": [
        "**Observations**\r\n",
        "\r\n",
        "\r\n",
        "*   CSK won only one match by batting first,this tells us CSK bowlers failed to restrict opponents.If the bowlers restrict the opponents for atleast 3 matches they would have been in playoffs.\r\n",
        "IPL2020 edition they need to concentrate on bowling.\r\n",
        "*   DC team played 17 matches won 9 matches, only in 2 matches the chased the target. maybe they lose wickets in chasing the total."
      ]
    },
    {
      "cell_type": "code",
      "metadata": {
        "id": "6vJmGSftHDew"
      },
      "source": [
        ""
      ],
      "execution_count": 49,
      "outputs": []
    }
  ]
}